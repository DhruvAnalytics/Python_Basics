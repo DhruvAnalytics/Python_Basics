{
  "nbformat": 4,
  "nbformat_minor": 0,
  "metadata": {
    "colab": {
      "provenance": []
    },
    "kernelspec": {
      "name": "python3",
      "display_name": "Python 3"
    },
    "language_info": {
      "name": "python"
    }
  },
  "cells": [
    {
      "cell_type": "markdown",
      "source": [
        "# Python Basics: Theorical Questions"
      ],
      "metadata": {
        "id": "rc6BUEF6bL6R"
      }
    },
    {
      "cell_type": "markdown",
      "source": [
        "1. What is Python, and why is it popular?\n",
        "  - Python is a high-level, interpreted programming language known for its simplicity and readability. It was created by Guido van Rossum.\n",
        "  - Why it is popular :\n",
        "    1. Python's syntax is very simple. So everyone can easily understand.\n",
        "    2. It can be used for web development, data science, artificial intelligence and more. It also has large community support.\n",
        "    3. Python offers a wide range of built-in libraries like Pandas, NumPy, Django etc."
      ],
      "metadata": {
        "id": "J2565lKSeC__"
      }
    },
    {
      "cell_type": "markdown",
      "source": [
        "2.  What is an interpreter in Python?\n",
        "  - An interpreter in Python is a program that executes Python code line by line instead of compiling the entire program at once. It will convert the source code into machine level code.It is also called translator. Some common python interpreters are CPython, PyPy, Jython, and IronPython."
      ],
      "metadata": {
        "id": "ROWsxiFJpKse"
      }
    },
    {
      "cell_type": "markdown",
      "source": [
        "3. What are pre-defined keywords in Python?\n",
        "  - Pre-defined keywords in Python are reserved words that have special meanings and cannot be used as variable names, function names, or identifiers.There are 35 keywords in Python. We can check all keywords using : help('keywords')"
      ],
      "metadata": {
        "id": "E1Tehi-zsRnG"
      }
    },
    {
      "cell_type": "code",
      "source": [
        "help('keywords')"
      ],
      "metadata": {
        "colab": {
          "base_uri": "https://localhost:8080/"
        },
        "id": "oNLeb516d1yH",
        "outputId": "fea0d517-33dc-48f1-f76a-5f2f28237c56"
      },
      "execution_count": null,
      "outputs": [
        {
          "output_type": "stream",
          "name": "stdout",
          "text": [
            "\n",
            "Here is a list of the Python keywords.  Enter any keyword to get more help.\n",
            "\n",
            "False               class               from                or\n",
            "None                continue            global              pass\n",
            "True                def                 if                  raise\n",
            "and                 del                 import              return\n",
            "as                  elif                in                  try\n",
            "assert              else                is                  while\n",
            "async               except              lambda              with\n",
            "await               finally             nonlocal            yield\n",
            "break               for                 not                 \n",
            "\n"
          ]
        }
      ]
    },
    {
      "cell_type": "markdown",
      "source": [
        "4.  Can keywords be used as variable names?\n",
        "  - No, keywords cannot be used as variable names in Python because they have special meanings and are reserved. So, we cannot use them for something else. If we try to use a keyword as a variable, Python will throw a SyntaxError."
      ],
      "metadata": {
        "id": "tC_Jqu9JuT6N"
      }
    },
    {
      "cell_type": "markdown",
      "source": [
        "5. What is mutability in Python?\n",
        "  - Mutability in Python refers to whether we can change the values of an object after it is created. There are two types of objects in Python i.e. Mutable(can change) and Immutable objects(cannot change).\n",
        "     - Mutable objects : - List, Dictionary, set.\n",
        "     - Immuatable objects : - String, Tuple, Integer, Float, Boolean."
      ],
      "metadata": {
        "id": "32nPYppYv_iF"
      }
    },
    {
      "cell_type": "markdown",
      "source": [
        "6.  Why are lists mutable, but tuples are immutable?\n",
        "  - Lists allow modifications (adding, removing, or changing elements) because they are stored in memory as dynamic arrays. Whereas, tuples are stored in fixed memory locations, meaning their values cannot be changed after creation. Thats why lists are mutable and tuples are immutable."
      ],
      "metadata": {
        "id": "AfqlLeAzzZTV"
      }
    },
    {
      "cell_type": "markdown",
      "source": [
        "7.  What is the difference between “==” and “is” operators in Python?\n",
        "  - Both '==' and 'is' are comparison operators in Python, but the difference is:\n",
        "     - '==' operator compares the values of two objects. It returns True if the values are the same, even if they are stored in different memory locations.\n",
        "     - 'is' operator comapres the memory location (identity) of two objects. It returns True only if both variables refer to the same object in memory."
      ],
      "metadata": {
        "id": "Yf1Vt3zu1IEV"
      }
    },
    {
      "cell_type": "code",
      "source": [
        "# Example of '==' operator\n",
        "a = [1,2,3]\n",
        "b = [1,2,3]\n",
        "print(a==b)"
      ],
      "metadata": {
        "colab": {
          "base_uri": "https://localhost:8080/"
        },
        "id": "5fSxH3uL3xQk",
        "outputId": "5c5aa4f7-86e9-4381-8215-99e0d93d85cc"
      },
      "execution_count": null,
      "outputs": [
        {
          "output_type": "stream",
          "name": "stdout",
          "text": [
            "True\n"
          ]
        }
      ]
    },
    {
      "cell_type": "code",
      "source": [
        "# Example of 'is' operator\n",
        "a = [1,2,3]\n",
        "b = a\n",
        "print(a is b)"
      ],
      "metadata": {
        "colab": {
          "base_uri": "https://localhost:8080/"
        },
        "id": "FY3N1ointhHX",
        "outputId": "994e8369-a052-4072-a8c2-57a17c7a57f3"
      },
      "execution_count": null,
      "outputs": [
        {
          "output_type": "stream",
          "name": "stdout",
          "text": [
            "True\n"
          ]
        }
      ]
    },
    {
      "cell_type": "markdown",
      "source": [
        "8.  What are logical operators in Python?\n",
        "  - Logical operators in Python are used to combine multiple conditions and return True or False based on the logic applied. There are three logical operators in python : 'and', 'or' , 'not'.\n",
        "        - 'and' : Returns True if both conditions are True.\n",
        "        - 'or' : Returns True if at least one condition is True.\n",
        "        - 'not' : Reverses the Boolean value."
      ],
      "metadata": {
        "id": "JPD8CIiC4OyE"
      }
    },
    {
      "cell_type": "markdown",
      "source": [
        "9.  What is type casting in Python?\n",
        "  - Type casting in Python is the process of converting one data type into another. Python provides built-in functions to perform type casting and these conversions can be implicit or explicit."
      ],
      "metadata": {
        "id": "IbgfceYq6DXF"
      }
    },
    {
      "cell_type": "markdown",
      "source": [
        "10.  What is the difference between implicit and explicit type casting?\n",
        "   - The difference between implicit and explicit type casting is:\n",
        "        - Implicit type casting : Python automatically converts one data type into another when needed and it happens when performing operations between compatible types.\n",
        "        - Explicit type casting : Done manually by using Python's built-in functions and used when changing one type to another that Python can't do automatically."
      ],
      "metadata": {
        "id": "HUj9Q0NS8AjB"
      }
    },
    {
      "cell_type": "code",
      "source": [
        "# Example of implicit type casting:\n",
        "a = 5 # Integer\n",
        "b = 2.0 # Float\n",
        "c = a + b # Python converts integer (here '5') to float ('5.0') automatically.\n",
        "print(c)"
      ],
      "metadata": {
        "colab": {
          "base_uri": "https://localhost:8080/"
        },
        "id": "otD3PRsf9VjS",
        "outputId": "966a4330-a4a9-4fc4-e06d-7fb846dfad7e"
      },
      "execution_count": null,
      "outputs": [
        {
          "output_type": "stream",
          "name": "stdout",
          "text": [
            "7.0\n"
          ]
        }
      ]
    },
    {
      "cell_type": "code",
      "source": [
        "# Example of explicit type casting:\n",
        "a = \"10\"\n",
        "print(\"type of a:\",type(a))\n",
        "b = int(a)\n",
        "print(b)\n",
        "print(\"type of b:\",type(b))"
      ],
      "metadata": {
        "colab": {
          "base_uri": "https://localhost:8080/"
        },
        "id": "NZQOgif0-U9L",
        "outputId": "57dd0edd-898e-4568-e572-c3ecad0f9461"
      },
      "execution_count": null,
      "outputs": [
        {
          "output_type": "stream",
          "name": "stdout",
          "text": [
            "type of a: <class 'str'>\n",
            "10\n",
            "type of b: <class 'int'>\n"
          ]
        }
      ]
    },
    {
      "cell_type": "markdown",
      "source": [
        "11. What is the purpose of conditional statements in Python?\n",
        "   - Conditional statements in Python control the flow of a program by making decisions based on conditions. They allow the program to execute different blocks of code depending on whether a condition is True or False. Types of conditional statements in python : if, if-else, if-elif-else, Nested if-else."
      ],
      "metadata": {
        "id": "ybr4-iLH9eth"
      }
    },
    {
      "cell_type": "markdown",
      "source": [
        "12.  How does the elif statement work?\n",
        "   - The elif statement is used when you need to check multiple conditions in a sequence.\n",
        "   - Working :\n",
        "        - First, the if condition is checked. If it is True then that block runs, and the rest code are skipped.\n",
        "        - Suppose if condition is False then python checks the first elif. If it is True then that block runs, and the rest code are skipped.\n",
        "        - If none of the if or elif conditions are True then the else block runs."
      ],
      "metadata": {
        "id": "KXMIJGTcBV1W"
      }
    },
    {
      "cell_type": "code",
      "source": [
        "# Example of elif statement:\n",
        "marks = 80\n",
        "\n",
        "if marks >= 90:\n",
        "    print(\"Grade: A\")\n",
        "elif marks >= 80:\n",
        "    print(\"Grade: B\")\n",
        "elif marks >= 70:\n",
        "    print(\"Grade: C\")\n",
        "else:\n",
        "    print(\"Grade: D\")"
      ],
      "metadata": {
        "colab": {
          "base_uri": "https://localhost:8080/"
        },
        "id": "MVheiBlwC5JV",
        "outputId": "462fcc2f-0167-450b-d257-068e35bf308f"
      },
      "execution_count": null,
      "outputs": [
        {
          "output_type": "stream",
          "name": "stdout",
          "text": [
            "Grade: B\n"
          ]
        }
      ]
    },
    {
      "cell_type": "markdown",
      "source": [
        "13. What is the difference between for and while loops?\n",
        "   - For loop :\n",
        "        - It is used for iteration.\n",
        "        - It is used when we know how many times we want to loop.\n",
        "        - It works well with sequences like lists, tuples, strings, and ranges.\n",
        "        - There is no risk of infinite loop.\n",
        "      \n",
        "   - While loop :  \n",
        "        - It is used for conditional repetition.\n",
        "        - It is used when we don't know how many times the loop should run.\n",
        "        - It runs until a condition becomes False.\n",
        "        - There is risk of infinite loop."
      ],
      "metadata": {
        "id": "mBzW-vITDdh8"
      }
    },
    {
      "cell_type": "markdown",
      "source": [
        "14.  Describe a scenario where a while loop is more suitable than a for loop.\n",
        "   - A while loop is better than a for loop when we don't know in advance how many times the loop should run."
      ],
      "metadata": {
        "id": "ef7fRLmnGg1P"
      }
    },
    {
      "cell_type": "code",
      "source": [
        "# Scenario : Keep asking until the user enters a positive number.\n",
        "# Here, we don't know how many attempts it will take for the user to enter a positive number, so we use a while loop.\n",
        "number = -1\n",
        "\n",
        "while number < 0:\n",
        "    number = int(input(\"Enter a positive number: \"))\n",
        "    if number < 0:\n",
        "        print(f\"Invalid input: {number}. Please enter a positive number.\")\n",
        "print(\"Thank you for entering a positive number.\")"
      ],
      "metadata": {
        "colab": {
          "base_uri": "https://localhost:8080/"
        },
        "id": "SXuIxOxFHcR-",
        "outputId": "34ca2708-f12e-42f4-dfb7-caca5bede7c4"
      },
      "execution_count": null,
      "outputs": [
        {
          "output_type": "stream",
          "name": "stdout",
          "text": [
            "Enter a positive number: -4\n",
            "Invalid input: -4. Please enter a positive number.\n",
            "Enter a positive number: 8\n",
            "Thank you for entering a positive number.\n"
          ]
        }
      ]
    },
    {
      "cell_type": "markdown",
      "source": [
        "  - Here, why we use a while loop:\n",
        "      - We don't know how many times the user will enter a negative number.\n",
        "      - The loop keeps running until the user provides a valid positive number.\n",
        "      - A for loop will not work because we can't set a fixed number of attempts in advance."
      ],
      "metadata": {
        "id": "Q-Zjv7ZCLJCN"
      }
    },
    {
      "cell_type": "markdown",
      "source": [
        "# Python Basics: Practical Questions"
      ],
      "metadata": {
        "id": "10pGiqO764u_"
      }
    },
    {
      "cell_type": "code",
      "source": [
        "#1. Write a Python program to print \"Hello, World!\"\n",
        "print(\"Hello, World!\")"
      ],
      "metadata": {
        "colab": {
          "base_uri": "https://localhost:8080/"
        },
        "id": "B65d9tCE4LQ8",
        "outputId": "cd9a83f3-7c40-4bcc-c335-fd00f38b51f3"
      },
      "execution_count": null,
      "outputs": [
        {
          "output_type": "stream",
          "name": "stdout",
          "text": [
            "Hello, World!\n"
          ]
        }
      ]
    },
    {
      "cell_type": "code",
      "source": [
        "#2. Write a Python program that displays your name and age.\n",
        "name = input(\"Enter your name: \")\n",
        "age = int(input(\"Enter your age: \"))\n",
        "print(f\"Your name is {name} and your age is {age}\")"
      ],
      "metadata": {
        "colab": {
          "base_uri": "https://localhost:8080/"
        },
        "id": "0wlrE_Aq7aoJ",
        "outputId": "aa043a6f-016b-4b3b-94ec-ec7a0abdc5cc"
      },
      "execution_count": null,
      "outputs": [
        {
          "output_type": "stream",
          "name": "stdout",
          "text": [
            "Enter your name: Dhruv\n",
            "Enter your age: 22\n",
            "Your name is Dhruv and your age is 22\n"
          ]
        }
      ]
    },
    {
      "cell_type": "code",
      "source": [
        "#3. Write code to print all the pre-defined keywords in Python using the keyword library\n",
        "import keyword\n",
        "keyword.kwlist"
      ],
      "metadata": {
        "colab": {
          "base_uri": "https://localhost:8080/"
        },
        "id": "3bTnlu_h8tyD",
        "outputId": "fbf093f7-10c9-4771-f58c-52aaddf73be2"
      },
      "execution_count": null,
      "outputs": [
        {
          "output_type": "execute_result",
          "data": {
            "text/plain": [
              "['False',\n",
              " 'None',\n",
              " 'True',\n",
              " 'and',\n",
              " 'as',\n",
              " 'assert',\n",
              " 'async',\n",
              " 'await',\n",
              " 'break',\n",
              " 'class',\n",
              " 'continue',\n",
              " 'def',\n",
              " 'del',\n",
              " 'elif',\n",
              " 'else',\n",
              " 'except',\n",
              " 'finally',\n",
              " 'for',\n",
              " 'from',\n",
              " 'global',\n",
              " 'if',\n",
              " 'import',\n",
              " 'in',\n",
              " 'is',\n",
              " 'lambda',\n",
              " 'nonlocal',\n",
              " 'not',\n",
              " 'or',\n",
              " 'pass',\n",
              " 'raise',\n",
              " 'return',\n",
              " 'try',\n",
              " 'while',\n",
              " 'with',\n",
              " 'yield']"
            ]
          },
          "metadata": {},
          "execution_count": 15
        }
      ]
    },
    {
      "cell_type": "code",
      "source": [
        "help('keywords') # We can also check all keywords of python using: help('kwywords')."
      ],
      "metadata": {
        "colab": {
          "base_uri": "https://localhost:8080/"
        },
        "id": "j7S7ExFY9ZSJ",
        "outputId": "11b7710e-e65c-4da3-b2ea-909028fac483"
      },
      "execution_count": null,
      "outputs": [
        {
          "output_type": "stream",
          "name": "stdout",
          "text": [
            "\n",
            "Here is a list of the Python keywords.  Enter any keyword to get more help.\n",
            "\n",
            "False               class               from                or\n",
            "None                continue            global              pass\n",
            "True                def                 if                  raise\n",
            "and                 del                 import              return\n",
            "as                  elif                in                  try\n",
            "assert              else                is                  while\n",
            "async               except              lambda              with\n",
            "await               finally             nonlocal            yield\n",
            "break               for                 not                 \n",
            "\n"
          ]
        }
      ]
    },
    {
      "cell_type": "code",
      "source": [
        "#4. Write a program that checks if a given word is a Python keyword.\n",
        "import keyword\n",
        "word = input(\"Enter a word: \")\n",
        "if keyword.iskeyword(word):\n",
        "  print(f\"{word} is a Python keyword.\")\n",
        "else:\n",
        "  print(f\"{word} is not a Python keyword.\")"
      ],
      "metadata": {
        "colab": {
          "base_uri": "https://localhost:8080/"
        },
        "id": "madPU5my9tss",
        "outputId": "40b637fc-f1c6-4352-e6cf-a3075e03e135"
      },
      "execution_count": null,
      "outputs": [
        {
          "output_type": "stream",
          "name": "stdout",
          "text": [
            "Enter a word: def\n",
            "def is a Python keyword.\n"
          ]
        }
      ]
    },
    {
      "cell_type": "code",
      "source": [
        "#5. Create a list and tuple in Python, and demonstrate how attempting to change an element works differently for each.\n",
        "\n",
        "\n",
        "#For list (list is mutable so we can change the value of it.)\n",
        "l = [1,2,3]     # creating list\n",
        "print(\"Original list: \",l)\n",
        "\n",
        "l[2] = 4 # change the value of list\n",
        "print(\"Modified list: \", l)\n",
        "\n",
        "\n",
        "\n",
        "#For tuple (tuple is immutable so we can't change the value of it.)\n",
        "t = (1,2,3)    #creating tuple\n",
        "print(\"\\nOriginal tuple: \",t)\n",
        "\n",
        "t[0] = 6 # change the value of tuple (but it's not happen) throw error.\n",
        "print(\"Modified tuple: \", t)"
      ],
      "metadata": {
        "colab": {
          "base_uri": "https://localhost:8080/",
          "height": 263
        },
        "id": "LL3mhwW1BPIY",
        "outputId": "7bd652a7-c50b-4d07-fca5-d7552cadb83a"
      },
      "execution_count": null,
      "outputs": [
        {
          "output_type": "stream",
          "name": "stdout",
          "text": [
            "Original list:  [1, 2, 3]\n",
            "Modified list:  [1, 2, 4]\n",
            "\n",
            "Original tuple:  (1, 2, 3)\n"
          ]
        },
        {
          "output_type": "error",
          "ename": "TypeError",
          "evalue": "'tuple' object does not support item assignment",
          "traceback": [
            "\u001b[0;31m---------------------------------------------------------------------------\u001b[0m",
            "\u001b[0;31mTypeError\u001b[0m                                 Traceback (most recent call last)",
            "\u001b[0;32m<ipython-input-22-1f52c48d411f>\u001b[0m in \u001b[0;36m<cell line: 0>\u001b[0;34m()\u001b[0m\n\u001b[1;32m     15\u001b[0m \u001b[0mprint\u001b[0m\u001b[0;34m(\u001b[0m\u001b[0;34m\"\\nOriginal tuple: \"\u001b[0m\u001b[0;34m,\u001b[0m\u001b[0mt\u001b[0m\u001b[0;34m)\u001b[0m\u001b[0;34m\u001b[0m\u001b[0;34m\u001b[0m\u001b[0m\n\u001b[1;32m     16\u001b[0m \u001b[0;34m\u001b[0m\u001b[0m\n\u001b[0;32m---> 17\u001b[0;31m \u001b[0mt\u001b[0m\u001b[0;34m[\u001b[0m\u001b[0;36m0\u001b[0m\u001b[0;34m]\u001b[0m \u001b[0;34m=\u001b[0m \u001b[0;36m6\u001b[0m \u001b[0;31m# change the value of tuple (but it's not happen) throw error.\u001b[0m\u001b[0;34m\u001b[0m\u001b[0;34m\u001b[0m\u001b[0m\n\u001b[0m\u001b[1;32m     18\u001b[0m \u001b[0mprint\u001b[0m\u001b[0;34m(\u001b[0m\u001b[0;34m\"Modified tuple: \"\u001b[0m\u001b[0;34m,\u001b[0m \u001b[0mt\u001b[0m\u001b[0;34m)\u001b[0m\u001b[0;34m\u001b[0m\u001b[0;34m\u001b[0m\u001b[0m\n",
            "\u001b[0;31mTypeError\u001b[0m: 'tuple' object does not support item assignment"
          ]
        }
      ]
    },
    {
      "cell_type": "code",
      "source": [
        "l1 = list(t) # So we first convert it into list\n",
        "l1[2] = 4 # change the value\n",
        "t = tuple(l1) # again convert it into tuple\n",
        "print(\"Modified tuple: \", t)"
      ],
      "metadata": {
        "colab": {
          "base_uri": "https://localhost:8080/"
        },
        "id": "mpYHXWDajXQh",
        "outputId": "cc05aee8-973d-4136-8951-d7bc4564b357"
      },
      "execution_count": null,
      "outputs": [
        {
          "output_type": "stream",
          "name": "stdout",
          "text": [
            "Modified tuple:  (1, 2, 4)\n"
          ]
        }
      ]
    },
    {
      "cell_type": "code",
      "source": [
        "#6. Write a function to demonstrate the behavior of mutable and immutable arguments.\n",
        "def modify_data(mutable_list,immutable_tuple):\n",
        "\n",
        "  # modify the list inside the function\n",
        "  mutable_list.append(4)\n",
        "  print(f\"Inside function modified list: {mutable_list}\")\n",
        "\n",
        "  #modify the tuple (but tuple is immutable so we first convert it into list using type casting)\n",
        "  immutable_tuple = list(immutable_tuple)\n",
        "\n",
        "  # modify it\n",
        "  immutable_tuple.append(4)\n",
        "\n",
        "  # now again convert it into tuple\n",
        "  immutable_tuple = tuple(immutable_tuple)\n",
        "  print(f\"Inside function modified tuple: {immutable_tuple}\")\n",
        "\n",
        "\n",
        "# data\n",
        "l = [1,2,3] # list\n",
        "t = (1,2,3) # tuple\n",
        "\n",
        "print(f\"Original list: {l}\")\n",
        "print(f\"Original tuple: {t}\")\n",
        "\n",
        "#function calling\n",
        "modify_data(l,t)"
      ],
      "metadata": {
        "colab": {
          "base_uri": "https://localhost:8080/"
        },
        "id": "5SWEBcmzC3Zz",
        "outputId": "228af284-16c7-493f-aa57-d3cdc39a8b31"
      },
      "execution_count": null,
      "outputs": [
        {
          "output_type": "stream",
          "name": "stdout",
          "text": [
            "Original list: [1, 2, 3]\n",
            "Original tuple: (1, 2, 3)\n",
            "Inside function modified list: [1, 2, 3, 4]\n",
            "Inside function modified tuple: (1, 2, 3, 4)\n"
          ]
        }
      ]
    },
    {
      "cell_type": "code",
      "source": [
        "#7. Write a function to demonstrate the behavior of mutable and immutable arguments.\n",
        "# Questions 6 and 7 are same\n",
        "def modify_data(mutable_list,immutable_tuple):\n",
        "\n",
        "  # modify the list inside the function\n",
        "  mutable_list.append(4)\n",
        "  print(f\"Inside function modified list: {mutable_list}\")\n",
        "\n",
        "  #modify the tuple (but tuple is immutable so we first convert it into list using type casting)\n",
        "  immutable_tuple = list(immutable_tuple)\n",
        "\n",
        "  # modify it\n",
        "  immutable_tuple.append(4)\n",
        "\n",
        "  # now again convert it into tuple\n",
        "  immutable_tuple = tuple(immutable_tuple)\n",
        "  print(f\"Inside function modified tuple: {immutable_tuple}\")\n",
        "\n",
        "\n",
        "# data\n",
        "l = [1,2] # list\n",
        "t = (1,2) # tuple\n",
        "\n",
        "print(f\"Original list: {l}\")\n",
        "print(f\"Original tuple: {t}\")\n",
        "\n",
        "#function calling\n",
        "modify_data(l,t)"
      ],
      "metadata": {
        "colab": {
          "base_uri": "https://localhost:8080/"
        },
        "id": "JUuYwmx5IubX",
        "outputId": "8126d292-3083-410a-d27c-90665f51d002"
      },
      "execution_count": null,
      "outputs": [
        {
          "output_type": "stream",
          "name": "stdout",
          "text": [
            "Original list: [1, 2]\n",
            "Original tuple: (1, 2)\n",
            "Inside function modified list: [1, 2, 4]\n",
            "Inside function modified tuple: (1, 2, 4)\n"
          ]
        }
      ]
    },
    {
      "cell_type": "code",
      "source": [
        "#8. Write a program to demonstrate the use of logical operators.\n",
        "\n",
        "a = 10\n",
        "b = -20\n",
        "\n",
        "# logical \"and\" operator\n",
        "if a > 0 and b > 0: # Both conditions must be True\n",
        "  print(\"Both a and b are positive numbers\")\n",
        "\n",
        "# logical \"or\" operator\n",
        "if a > 0 or b > 0: # At least one condition must be True\n",
        "  print(\"Either a or b is positive number\")\n",
        "\n",
        "# logical \"not\" operator\n",
        "if not(b > 0): # b is negative and b > 0 is False so not(b > 0) becomes True\n",
        "  print(\"The logical 'not' operator is used to reverse the result\")"
      ],
      "metadata": {
        "colab": {
          "base_uri": "https://localhost:8080/"
        },
        "id": "FQY1T-k1JZaX",
        "outputId": "6fbf9b5b-f7e5-4e9e-e661-27fd14e7dbcc"
      },
      "execution_count": null,
      "outputs": [
        {
          "output_type": "stream",
          "name": "stdout",
          "text": [
            "Either a or b is positive number\n",
            "The logical 'not' operator is used to reverse the result\n"
          ]
        }
      ]
    },
    {
      "cell_type": "code",
      "source": [
        "#9. Write a Python program to convert user input from string to integer, float, and boolean types\n",
        "number = input(\"Enter any number: \")\n",
        "float_number = input(\"Enter any float number: \")\n",
        "boolean_value = input(\"Enter any bool value: \")\n",
        "\n",
        "# Types\n",
        "print(f\"\\nType of number: {type(number)} and number: {number}\")\n",
        "print(f\"Type of float number: {type(float_number)} and float number: {float_number}\")\n",
        "print(f\"Type of boolean value: {type(boolean_value)} and boolean value: {boolean_value}\")\n",
        "\n",
        "# converting\n",
        "number = int(number) # str to int\n",
        "float_number = float(float_number) # str to float\n",
        "boolean_value = bool(boolean_value) # str to bool\n",
        "\n",
        "\n",
        "print(\"\\nAfter converting:\")\n",
        "print(f\"Type of number: {type(number)} and number: {number}\")\n",
        "print(f\"Type of float number: {type(float_number)} and float number: {float_number}\")\n",
        "print(f\"Type of boolean value: {type(boolean_value)} and boolean value: {boolean_value}\")"
      ],
      "metadata": {
        "colab": {
          "base_uri": "https://localhost:8080/"
        },
        "id": "CzVTjkdmQQrR",
        "outputId": "e77fc62f-1a00-4504-efeb-7122dc28fde2"
      },
      "execution_count": null,
      "outputs": [
        {
          "output_type": "stream",
          "name": "stdout",
          "text": [
            "Enter any number: 1\n",
            "Enter any float number: 2.0\n",
            "Enter any bool value: 3\n",
            "\n",
            "Type of number: <class 'str'> and number: 1\n",
            "Type of float number: <class 'str'> and float number: 2.0\n",
            "Type of boolean value: <class 'str'> and boolean value: 3\n",
            "\n",
            "After converting:\n",
            "Type of number: <class 'int'> and number: 1\n",
            "Type of float number: <class 'float'> and float number: 2.0\n",
            "Type of boolean value: <class 'bool'> and boolean value: True\n"
          ]
        }
      ]
    },
    {
      "cell_type": "code",
      "source": [
        "#10. Write code to demonstrate type casting with list elements\n",
        "l = [\"1\",\"2\",\"3\"] # list\n",
        "print(\"String list: \",l)\n",
        "# We can convert the above list element (string) to integer and float\n",
        "# type casting\n",
        "list1 = []\n",
        "for i in l:\n",
        "  list1.append(int(i)) # convert to integer\n",
        "print(\"\\nAfter type casting:\")\n",
        "print(\"Integer list: \",list1)\n",
        "\n",
        "list2 = []\n",
        "for i in l:\n",
        "  list2.append(float(i)) # convert to float\n",
        "print(\"Float list: \",list2)\n"
      ],
      "metadata": {
        "colab": {
          "base_uri": "https://localhost:8080/"
        },
        "id": "o13o669dWF4E",
        "outputId": "2daf64c9-c7e6-4a19-c7da-b0af092fbb11"
      },
      "execution_count": null,
      "outputs": [
        {
          "output_type": "stream",
          "name": "stdout",
          "text": [
            "String list:  ['1', '2', '3']\n",
            "\n",
            "After type casting:\n",
            "Integer list:  [1, 2, 3]\n",
            "Float list:  [1.0, 2.0, 3.0]\n"
          ]
        }
      ]
    },
    {
      "cell_type": "code",
      "source": [
        "#11. Write a program that checks if a number is positive, negative, or zero.\n",
        "number = float(input(\"Enter a number:\"))\n",
        "if number > 0:\n",
        "  print(\"The number is positive.\")\n",
        "elif number < 0:\n",
        "  print(\"The number is negative.\")\n",
        "else:\n",
        "  print(\"The number is zero.\")"
      ],
      "metadata": {
        "colab": {
          "base_uri": "https://localhost:8080/"
        },
        "id": "Yz8rN37Jb4k6",
        "outputId": "1eb39b5f-6994-4cea-b5de-a650887a411b"
      },
      "execution_count": null,
      "outputs": [
        {
          "output_type": "stream",
          "name": "stdout",
          "text": [
            "Enter a number:6\n",
            "The number is positive.\n"
          ]
        }
      ]
    },
    {
      "cell_type": "code",
      "source": [
        "#12. Write a for loop to print numbers from 1 to 10.\n",
        "for i in range(1,11):\n",
        "  print(i,end=\" \")"
      ],
      "metadata": {
        "colab": {
          "base_uri": "https://localhost:8080/"
        },
        "id": "FdtkUTB8d1tD",
        "outputId": "14e04719-44dd-4318-d815-50866fbd3de8"
      },
      "execution_count": null,
      "outputs": [
        {
          "output_type": "stream",
          "name": "stdout",
          "text": [
            "1 2 3 4 5 6 7 8 9 10 "
          ]
        }
      ]
    },
    {
      "cell_type": "code",
      "source": [
        "#13. Write a Python program to find the sum of all even numbers between 1 and 50.\n",
        "\n",
        "\n",
        "# here I take \"between 1 and 50\" to mean 2 to 49..\n",
        "sum = 0\n",
        "for i in range(2,50):\n",
        "  if i % 2 == 0:\n",
        "    sum = sum + i\n",
        "print (f\"The sum of all even numbers between 1 and 50 is {sum}\")\n",
        "\n",
        "#from 1 to 50 then\n",
        "total = 0\n",
        "for i in range(1,51):\n",
        "  if i % 2 == 0:\n",
        "    total = total + i\n",
        "print (f\"The sum of all even numbers from 1 to 50 is {total}\")"
      ],
      "metadata": {
        "colab": {
          "base_uri": "https://localhost:8080/"
        },
        "id": "K0swqoSreo7v",
        "outputId": "38966eaa-040a-4136-835a-95a07c4d5ad5"
      },
      "execution_count": null,
      "outputs": [
        {
          "output_type": "stream",
          "name": "stdout",
          "text": [
            "The sum of all even numbers between 1 and 50 is 600\n",
            "The sum of all even numbers from 1 to 50 is 650\n"
          ]
        }
      ]
    },
    {
      "cell_type": "code",
      "source": [
        "#14. Write a program to reverse a string using a while loop.\n",
        "string = \"Hello\"\n",
        "print(f\"Original string is: {string}\")\n",
        "reversed_string = \"\"\n",
        "index = len(string) - 1\n",
        "\n",
        "while index >= 0:\n",
        "  reversed_string = reversed_string + string[index]\n",
        "  index = index - 1\n",
        "\n",
        "print(f\"The reversed string is: {reversed_string}\")"
      ],
      "metadata": {
        "id": "e8hrOZ0mgxjO",
        "colab": {
          "base_uri": "https://localhost:8080/"
        },
        "outputId": "886fca42-d8a1-4e63-9b2b-111e940916fa"
      },
      "execution_count": null,
      "outputs": [
        {
          "output_type": "stream",
          "name": "stdout",
          "text": [
            "Original string is: Hello\n",
            "The reversed string is: olleH\n"
          ]
        }
      ]
    },
    {
      "cell_type": "code",
      "source": [
        "#15. Write a Python program to calculate the factorial of a number provided by the user using a while loop.\n",
        "number = int(input(\"Enter a number: \"))\n",
        "i = number\n",
        "factorial = 1\n",
        "if number == 0 or number == 1:\n",
        "  print(f\"The factorial of {number} is {factorial}\")\n",
        "else:\n",
        "  while i > 0:\n",
        "    factorial = factorial * i\n",
        "    i = i - 1\n",
        "  print(f\"The factorial of {number} is {factorial}\")"
      ],
      "metadata": {
        "colab": {
          "base_uri": "https://localhost:8080/"
        },
        "id": "3n57cCkBj7Cu",
        "outputId": "dc57b278-b4b3-479d-fbdf-012940cd60d3"
      },
      "execution_count": null,
      "outputs": [
        {
          "output_type": "stream",
          "name": "stdout",
          "text": [
            "Enter a number: 5\n",
            "The factorial of 5 is 120\n"
          ]
        }
      ]
    }
  ]
}